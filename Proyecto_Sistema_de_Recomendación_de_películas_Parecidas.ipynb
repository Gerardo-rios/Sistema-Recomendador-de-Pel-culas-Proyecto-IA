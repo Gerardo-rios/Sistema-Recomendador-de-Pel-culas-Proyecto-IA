{
  "nbformat": 4,
  "nbformat_minor": 0,
  "metadata": {
    "colab": {
      "name": "Proyecto Sistema de Recomendación de películas Parecidas.ipynb",
      "provenance": [],
      "collapsed_sections": []
    },
    "kernelspec": {
      "name": "python3",
      "display_name": "Python 3"
    },
    "language_info": {
      "name": "python"
    }
  },
  "cells": [
    {
      "cell_type": "markdown",
      "source": [
        "\n",
        "⚗: 😉\n",
        "**Proyecto ML Final, Sistema de Recomendación de Películas**\n",
        "\n",
        "---\n",
        "Por:\n",
        "Gerardo Ríos (jose.g.rios@unl.edu.ec)\n",
        "Israel León (israel.leon@unl.edu.ec)\n"
      ],
      "metadata": {
        "id": "7tZaCaQN2Xi3"
      }
    },
    {
      "cell_type": "markdown",
      "source": [
        "1. Carga de librerías y de datos"
      ],
      "metadata": {
        "id": "3aafv23wxpkO"
      }
    },
    {
      "cell_type": "code",
      "source": [
        "from google.colab import drive\n",
        "drive.mount(\"/content/drive\", force_remount=True)"
      ],
      "metadata": {
        "colab": {
          "base_uri": "https://localhost:8080/"
        },
        "id": "mzvCkPo0zS-1",
        "outputId": "0435bf8c-cbac-40bc-db06-fc733d57d4be"
      },
      "execution_count": null,
      "outputs": [
        {
          "output_type": "stream",
          "name": "stdout",
          "text": [
            "Mounted at /content/drive\n"
          ]
        }
      ]
    },
    {
      "cell_type": "code",
      "source": [
        "pip install fuzzywuzzy"
      ],
      "metadata": {
        "colab": {
          "base_uri": "https://localhost:8080/"
        },
        "id": "Yw_SV5L4x-oN",
        "outputId": "c1f9d0e9-79ab-4a08-ae1c-f0bb59c903ca"
      },
      "execution_count": null,
      "outputs": [
        {
          "output_type": "stream",
          "name": "stdout",
          "text": [
            "Requirement already satisfied: fuzzywuzzy in /usr/local/lib/python3.7/dist-packages (0.18.0)\n"
          ]
        }
      ]
    },
    {
      "cell_type": "code",
      "source": [
        "import os\n",
        "import time\n",
        "\n",
        "# data science imports\n",
        "import math\n",
        "import numpy as np\n",
        "import pandas as pd\n",
        "from scipy.sparse import csr_matrix\n",
        "from sklearn.neighbors import NearestNeighbors\n",
        "import joblib\n",
        "\n",
        "# utils import\n",
        "from fuzzywuzzy import fuzz\n",
        "\n",
        "# visualization imports\n",
        "import seaborn as sns\n",
        "import matplotlib.pyplot as plt\n",
        "plt.style.use('ggplot')\n",
        "\n",
        "%matplotlib inline"
      ],
      "metadata": {
        "id": "FLF75ujmxuhA",
        "colab": {
          "base_uri": "https://localhost:8080/"
        },
        "outputId": "9a12d55c-0e91-4f4e-e9bb-f0c72a79db94"
      },
      "execution_count": null,
      "outputs": [
        {
          "output_type": "stream",
          "name": "stderr",
          "text": [
            "/usr/local/lib/python3.7/dist-packages/fuzzywuzzy/fuzz.py:11: UserWarning: Using slow pure-python SequenceMatcher. Install python-Levenshtein to remove this warning\n",
            "  warnings.warn('Using slow pure-python SequenceMatcher. Install python-Levenshtein to remove this warning')\n"
          ]
        }
      ]
    },
    {
      "cell_type": "markdown",
      "source": [
        "**LOAD DATA**"
      ],
      "metadata": {
        "id": "lZVVmUbjyGL_"
      }
    },
    {
      "cell_type": "code",
      "source": [
        "df_movies = pd.read_csv(\n",
        "    os.path.join('/content/drive/MyDrive/ProyectoSistemadeRecomendación', \"movies.csv\"),\n",
        "    usecols=['movieId', 'title'],\n",
        "    dtype={'movieId': 'int32', 'title': 'str'})\n",
        "\n",
        "df_ratings = pd.read_csv(\n",
        "    os.path.join('/content/drive/MyDrive/ProyectoSistemadeRecomendación', \"ratingsSmall.csv\"),\n",
        "    usecols=['userId', 'movieId', 'rating'],\n",
        "    dtype={'userId': 'int32', 'movieId': 'int32', 'rating': 'float32'})"
      ],
      "metadata": {
        "id": "WS534zejyNIx"
      },
      "execution_count": null,
      "outputs": []
    },
    {
      "cell_type": "code",
      "source": [
        "df_movies.info()"
      ],
      "metadata": {
        "id": "JfKfAFCr2IfV",
        "colab": {
          "base_uri": "https://localhost:8080/"
        },
        "outputId": "aa31eb73-1f1c-41af-ccdd-7ede6c054c71"
      },
      "execution_count": null,
      "outputs": [
        {
          "output_type": "stream",
          "name": "stdout",
          "text": [
            "<class 'pandas.core.frame.DataFrame'>\n",
            "RangeIndex: 58098 entries, 0 to 58097\n",
            "Data columns (total 2 columns):\n",
            " #   Column   Non-Null Count  Dtype \n",
            "---  ------   --------------  ----- \n",
            " 0   movieId  58098 non-null  int32 \n",
            " 1   title    58098 non-null  object\n",
            "dtypes: int32(1), object(1)\n",
            "memory usage: 681.0+ KB\n"
          ]
        }
      ]
    },
    {
      "cell_type": "code",
      "source": [
        "df_ratings.info()"
      ],
      "metadata": {
        "id": "HvVNNASD2I2r",
        "colab": {
          "base_uri": "https://localhost:8080/"
        },
        "outputId": "4ff9d088-af34-4c29-b287-5f819f042486"
      },
      "execution_count": null,
      "outputs": [
        {
          "output_type": "stream",
          "name": "stdout",
          "text": [
            "<class 'pandas.core.frame.DataFrame'>\n",
            "RangeIndex: 503907 entries, 0 to 503906\n",
            "Data columns (total 3 columns):\n",
            " #   Column   Non-Null Count   Dtype  \n",
            "---  ------   --------------   -----  \n",
            " 0   userId   503907 non-null  int32  \n",
            " 1   movieId  503907 non-null  int32  \n",
            " 2   rating   503907 non-null  float32\n",
            "dtypes: float32(1), int32(2)\n",
            "memory usage: 5.8 MB\n"
          ]
        }
      ]
    },
    {
      "cell_type": "code",
      "source": [
        "df_movies.head()"
      ],
      "metadata": {
        "colab": {
          "base_uri": "https://localhost:8080/",
          "height": 206
        },
        "id": "fk-kM--5jZZw",
        "outputId": "7161a807-1928-421e-dfb0-44a407299be4"
      },
      "execution_count": null,
      "outputs": [
        {
          "output_type": "execute_result",
          "data": {
            "text/html": [
              "\n",
              "  <div id=\"df-8652d282-a1e3-4a67-9d4c-ec61cefb01f8\">\n",
              "    <div class=\"colab-df-container\">\n",
              "      <div>\n",
              "<style scoped>\n",
              "    .dataframe tbody tr th:only-of-type {\n",
              "        vertical-align: middle;\n",
              "    }\n",
              "\n",
              "    .dataframe tbody tr th {\n",
              "        vertical-align: top;\n",
              "    }\n",
              "\n",
              "    .dataframe thead th {\n",
              "        text-align: right;\n",
              "    }\n",
              "</style>\n",
              "<table border=\"1\" class=\"dataframe\">\n",
              "  <thead>\n",
              "    <tr style=\"text-align: right;\">\n",
              "      <th></th>\n",
              "      <th>movieId</th>\n",
              "      <th>title</th>\n",
              "    </tr>\n",
              "  </thead>\n",
              "  <tbody>\n",
              "    <tr>\n",
              "      <th>0</th>\n",
              "      <td>1</td>\n",
              "      <td>Toy Story (1995)</td>\n",
              "    </tr>\n",
              "    <tr>\n",
              "      <th>1</th>\n",
              "      <td>2</td>\n",
              "      <td>Jumanji (1995)</td>\n",
              "    </tr>\n",
              "    <tr>\n",
              "      <th>2</th>\n",
              "      <td>3</td>\n",
              "      <td>Grumpier Old Men (1995)</td>\n",
              "    </tr>\n",
              "    <tr>\n",
              "      <th>3</th>\n",
              "      <td>4</td>\n",
              "      <td>Waiting to Exhale (1995)</td>\n",
              "    </tr>\n",
              "    <tr>\n",
              "      <th>4</th>\n",
              "      <td>5</td>\n",
              "      <td>Father of the Bride Part II (1995)</td>\n",
              "    </tr>\n",
              "  </tbody>\n",
              "</table>\n",
              "</div>\n",
              "      <button class=\"colab-df-convert\" onclick=\"convertToInteractive('df-8652d282-a1e3-4a67-9d4c-ec61cefb01f8')\"\n",
              "              title=\"Convert this dataframe to an interactive table.\"\n",
              "              style=\"display:none;\">\n",
              "        \n",
              "  <svg xmlns=\"http://www.w3.org/2000/svg\" height=\"24px\"viewBox=\"0 0 24 24\"\n",
              "       width=\"24px\">\n",
              "    <path d=\"M0 0h24v24H0V0z\" fill=\"none\"/>\n",
              "    <path d=\"M18.56 5.44l.94 2.06.94-2.06 2.06-.94-2.06-.94-.94-2.06-.94 2.06-2.06.94zm-11 1L8.5 8.5l.94-2.06 2.06-.94-2.06-.94L8.5 2.5l-.94 2.06-2.06.94zm10 10l.94 2.06.94-2.06 2.06-.94-2.06-.94-.94-2.06-.94 2.06-2.06.94z\"/><path d=\"M17.41 7.96l-1.37-1.37c-.4-.4-.92-.59-1.43-.59-.52 0-1.04.2-1.43.59L10.3 9.45l-7.72 7.72c-.78.78-.78 2.05 0 2.83L4 21.41c.39.39.9.59 1.41.59.51 0 1.02-.2 1.41-.59l7.78-7.78 2.81-2.81c.8-.78.8-2.07 0-2.86zM5.41 20L4 18.59l7.72-7.72 1.47 1.35L5.41 20z\"/>\n",
              "  </svg>\n",
              "      </button>\n",
              "      \n",
              "  <style>\n",
              "    .colab-df-container {\n",
              "      display:flex;\n",
              "      flex-wrap:wrap;\n",
              "      gap: 12px;\n",
              "    }\n",
              "\n",
              "    .colab-df-convert {\n",
              "      background-color: #E8F0FE;\n",
              "      border: none;\n",
              "      border-radius: 50%;\n",
              "      cursor: pointer;\n",
              "      display: none;\n",
              "      fill: #1967D2;\n",
              "      height: 32px;\n",
              "      padding: 0 0 0 0;\n",
              "      width: 32px;\n",
              "    }\n",
              "\n",
              "    .colab-df-convert:hover {\n",
              "      background-color: #E2EBFA;\n",
              "      box-shadow: 0px 1px 2px rgba(60, 64, 67, 0.3), 0px 1px 3px 1px rgba(60, 64, 67, 0.15);\n",
              "      fill: #174EA6;\n",
              "    }\n",
              "\n",
              "    [theme=dark] .colab-df-convert {\n",
              "      background-color: #3B4455;\n",
              "      fill: #D2E3FC;\n",
              "    }\n",
              "\n",
              "    [theme=dark] .colab-df-convert:hover {\n",
              "      background-color: #434B5C;\n",
              "      box-shadow: 0px 1px 3px 1px rgba(0, 0, 0, 0.15);\n",
              "      filter: drop-shadow(0px 1px 2px rgba(0, 0, 0, 0.3));\n",
              "      fill: #FFFFFF;\n",
              "    }\n",
              "  </style>\n",
              "\n",
              "      <script>\n",
              "        const buttonEl =\n",
              "          document.querySelector('#df-8652d282-a1e3-4a67-9d4c-ec61cefb01f8 button.colab-df-convert');\n",
              "        buttonEl.style.display =\n",
              "          google.colab.kernel.accessAllowed ? 'block' : 'none';\n",
              "\n",
              "        async function convertToInteractive(key) {\n",
              "          const element = document.querySelector('#df-8652d282-a1e3-4a67-9d4c-ec61cefb01f8');\n",
              "          const dataTable =\n",
              "            await google.colab.kernel.invokeFunction('convertToInteractive',\n",
              "                                                     [key], {});\n",
              "          if (!dataTable) return;\n",
              "\n",
              "          const docLinkHtml = 'Like what you see? Visit the ' +\n",
              "            '<a target=\"_blank\" href=https://colab.research.google.com/notebooks/data_table.ipynb>data table notebook</a>'\n",
              "            + ' to learn more about interactive tables.';\n",
              "          element.innerHTML = '';\n",
              "          dataTable['output_type'] = 'display_data';\n",
              "          await google.colab.output.renderOutput(dataTable, element);\n",
              "          const docLink = document.createElement('div');\n",
              "          docLink.innerHTML = docLinkHtml;\n",
              "          element.appendChild(docLink);\n",
              "        }\n",
              "      </script>\n",
              "    </div>\n",
              "  </div>\n",
              "  "
            ],
            "text/plain": [
              "   movieId                               title\n",
              "0        1                    Toy Story (1995)\n",
              "1        2                      Jumanji (1995)\n",
              "2        3             Grumpier Old Men (1995)\n",
              "3        4            Waiting to Exhale (1995)\n",
              "4        5  Father of the Bride Part II (1995)"
            ]
          },
          "metadata": {},
          "execution_count": 12
        }
      ]
    },
    {
      "cell_type": "code",
      "source": [
        "df_ratings.head()"
      ],
      "metadata": {
        "id": "VYYv7BWj2Sk1",
        "colab": {
          "base_uri": "https://localhost:8080/",
          "height": 206
        },
        "outputId": "38213568-9f78-438f-fce2-abc58342831a"
      },
      "execution_count": null,
      "outputs": [
        {
          "output_type": "execute_result",
          "data": {
            "text/html": [
              "\n",
              "  <div id=\"df-197f012e-b229-4c48-a2c8-5f1011eab71c\">\n",
              "    <div class=\"colab-df-container\">\n",
              "      <div>\n",
              "<style scoped>\n",
              "    .dataframe tbody tr th:only-of-type {\n",
              "        vertical-align: middle;\n",
              "    }\n",
              "\n",
              "    .dataframe tbody tr th {\n",
              "        vertical-align: top;\n",
              "    }\n",
              "\n",
              "    .dataframe thead th {\n",
              "        text-align: right;\n",
              "    }\n",
              "</style>\n",
              "<table border=\"1\" class=\"dataframe\">\n",
              "  <thead>\n",
              "    <tr style=\"text-align: right;\">\n",
              "      <th></th>\n",
              "      <th>userId</th>\n",
              "      <th>movieId</th>\n",
              "      <th>rating</th>\n",
              "    </tr>\n",
              "  </thead>\n",
              "  <tbody>\n",
              "    <tr>\n",
              "      <th>0</th>\n",
              "      <td>1</td>\n",
              "      <td>307</td>\n",
              "      <td>3.5</td>\n",
              "    </tr>\n",
              "    <tr>\n",
              "      <th>1</th>\n",
              "      <td>1</td>\n",
              "      <td>481</td>\n",
              "      <td>3.5</td>\n",
              "    </tr>\n",
              "    <tr>\n",
              "      <th>2</th>\n",
              "      <td>1</td>\n",
              "      <td>1091</td>\n",
              "      <td>1.5</td>\n",
              "    </tr>\n",
              "    <tr>\n",
              "      <th>3</th>\n",
              "      <td>1</td>\n",
              "      <td>1257</td>\n",
              "      <td>4.5</td>\n",
              "    </tr>\n",
              "    <tr>\n",
              "      <th>4</th>\n",
              "      <td>1</td>\n",
              "      <td>1449</td>\n",
              "      <td>4.5</td>\n",
              "    </tr>\n",
              "  </tbody>\n",
              "</table>\n",
              "</div>\n",
              "      <button class=\"colab-df-convert\" onclick=\"convertToInteractive('df-197f012e-b229-4c48-a2c8-5f1011eab71c')\"\n",
              "              title=\"Convert this dataframe to an interactive table.\"\n",
              "              style=\"display:none;\">\n",
              "        \n",
              "  <svg xmlns=\"http://www.w3.org/2000/svg\" height=\"24px\"viewBox=\"0 0 24 24\"\n",
              "       width=\"24px\">\n",
              "    <path d=\"M0 0h24v24H0V0z\" fill=\"none\"/>\n",
              "    <path d=\"M18.56 5.44l.94 2.06.94-2.06 2.06-.94-2.06-.94-.94-2.06-.94 2.06-2.06.94zm-11 1L8.5 8.5l.94-2.06 2.06-.94-2.06-.94L8.5 2.5l-.94 2.06-2.06.94zm10 10l.94 2.06.94-2.06 2.06-.94-2.06-.94-.94-2.06-.94 2.06-2.06.94z\"/><path d=\"M17.41 7.96l-1.37-1.37c-.4-.4-.92-.59-1.43-.59-.52 0-1.04.2-1.43.59L10.3 9.45l-7.72 7.72c-.78.78-.78 2.05 0 2.83L4 21.41c.39.39.9.59 1.41.59.51 0 1.02-.2 1.41-.59l7.78-7.78 2.81-2.81c.8-.78.8-2.07 0-2.86zM5.41 20L4 18.59l7.72-7.72 1.47 1.35L5.41 20z\"/>\n",
              "  </svg>\n",
              "      </button>\n",
              "      \n",
              "  <style>\n",
              "    .colab-df-container {\n",
              "      display:flex;\n",
              "      flex-wrap:wrap;\n",
              "      gap: 12px;\n",
              "    }\n",
              "\n",
              "    .colab-df-convert {\n",
              "      background-color: #E8F0FE;\n",
              "      border: none;\n",
              "      border-radius: 50%;\n",
              "      cursor: pointer;\n",
              "      display: none;\n",
              "      fill: #1967D2;\n",
              "      height: 32px;\n",
              "      padding: 0 0 0 0;\n",
              "      width: 32px;\n",
              "    }\n",
              "\n",
              "    .colab-df-convert:hover {\n",
              "      background-color: #E2EBFA;\n",
              "      box-shadow: 0px 1px 2px rgba(60, 64, 67, 0.3), 0px 1px 3px 1px rgba(60, 64, 67, 0.15);\n",
              "      fill: #174EA6;\n",
              "    }\n",
              "\n",
              "    [theme=dark] .colab-df-convert {\n",
              "      background-color: #3B4455;\n",
              "      fill: #D2E3FC;\n",
              "    }\n",
              "\n",
              "    [theme=dark] .colab-df-convert:hover {\n",
              "      background-color: #434B5C;\n",
              "      box-shadow: 0px 1px 3px 1px rgba(0, 0, 0, 0.15);\n",
              "      filter: drop-shadow(0px 1px 2px rgba(0, 0, 0, 0.3));\n",
              "      fill: #FFFFFF;\n",
              "    }\n",
              "  </style>\n",
              "\n",
              "      <script>\n",
              "        const buttonEl =\n",
              "          document.querySelector('#df-197f012e-b229-4c48-a2c8-5f1011eab71c button.colab-df-convert');\n",
              "        buttonEl.style.display =\n",
              "          google.colab.kernel.accessAllowed ? 'block' : 'none';\n",
              "\n",
              "        async function convertToInteractive(key) {\n",
              "          const element = document.querySelector('#df-197f012e-b229-4c48-a2c8-5f1011eab71c');\n",
              "          const dataTable =\n",
              "            await google.colab.kernel.invokeFunction('convertToInteractive',\n",
              "                                                     [key], {});\n",
              "          if (!dataTable) return;\n",
              "\n",
              "          const docLinkHtml = 'Like what you see? Visit the ' +\n",
              "            '<a target=\"_blank\" href=https://colab.research.google.com/notebooks/data_table.ipynb>data table notebook</a>'\n",
              "            + ' to learn more about interactive tables.';\n",
              "          element.innerHTML = '';\n",
              "          dataTable['output_type'] = 'display_data';\n",
              "          await google.colab.output.renderOutput(dataTable, element);\n",
              "          const docLink = document.createElement('div');\n",
              "          docLink.innerHTML = docLinkHtml;\n",
              "          element.appendChild(docLink);\n",
              "        }\n",
              "      </script>\n",
              "    </div>\n",
              "  </div>\n",
              "  "
            ],
            "text/plain": [
              "   userId  movieId  rating\n",
              "0       1      307     3.5\n",
              "1       1      481     3.5\n",
              "2       1     1091     1.5\n",
              "3       1     1257     4.5\n",
              "4       1     1449     4.5"
            ]
          },
          "metadata": {},
          "execution_count": 13
        }
      ]
    },
    {
      "cell_type": "code",
      "source": [
        "num_users = len(df_ratings.userId.unique())\n",
        "num_items = len(df_ratings.movieId.unique())\n",
        "print('Hay {} usuarios únicos y {} películas únicas en el dataset'.format(num_users, num_items))"
      ],
      "metadata": {
        "id": "uBMuutWH3jvg",
        "outputId": "87c66bf4-af7a-4b06-f6c9-149d4d32cc23",
        "colab": {
          "base_uri": "https://localhost:8080/"
        }
      },
      "execution_count": null,
      "outputs": [
        {
          "output_type": "stream",
          "name": "stdout",
          "text": [
            "Hay 5132 usuarios únicos y 17859 películas únicas en el dataset\n"
          ]
        }
      ]
    },
    {
      "cell_type": "markdown",
      "source": [
        "***ANÁLISIS EXPLORATORIO DE DATOS***"
      ],
      "metadata": {
        "id": "puAm-zfK4vV5"
      }
    },
    {
      "cell_type": "markdown",
      "source": [
        "1. Graficar los conteos de cada calificación\n",
        "\n",
        "primero tenemos que obtener los recuentos de cada valoración de los datos de las valoraciones"
      ],
      "metadata": {
        "id": "e3QX6BoO5rZ-"
      }
    },
    {
      "cell_type": "code",
      "source": [
        "# obtener conteo\n",
        "df_ratings_cnt_tmp = pd.DataFrame(df_ratings.groupby('rating').size(), columns=['count'])\n",
        "df_ratings_cnt_tmp"
      ],
      "metadata": {
        "id": "KBJmAg1y41kI",
        "outputId": "82c6786e-e1f3-49df-f77c-c0eb6567726c",
        "colab": {
          "base_uri": "https://localhost:8080/",
          "height": 394
        }
      },
      "execution_count": null,
      "outputs": [
        {
          "output_type": "execute_result",
          "data": {
            "text/html": [
              "\n",
              "  <div id=\"df-36b59e08-db02-41b8-92ec-0cdcca5b7b21\">\n",
              "    <div class=\"colab-df-container\">\n",
              "      <div>\n",
              "<style scoped>\n",
              "    .dataframe tbody tr th:only-of-type {\n",
              "        vertical-align: middle;\n",
              "    }\n",
              "\n",
              "    .dataframe tbody tr th {\n",
              "        vertical-align: top;\n",
              "    }\n",
              "\n",
              "    .dataframe thead th {\n",
              "        text-align: right;\n",
              "    }\n",
              "</style>\n",
              "<table border=\"1\" class=\"dataframe\">\n",
              "  <thead>\n",
              "    <tr style=\"text-align: right;\">\n",
              "      <th></th>\n",
              "      <th>count</th>\n",
              "    </tr>\n",
              "    <tr>\n",
              "      <th>rating</th>\n",
              "      <th></th>\n",
              "    </tr>\n",
              "  </thead>\n",
              "  <tbody>\n",
              "    <tr>\n",
              "      <th>0.5</th>\n",
              "      <td>7616</td>\n",
              "    </tr>\n",
              "    <tr>\n",
              "      <th>1.0</th>\n",
              "      <td>16070</td>\n",
              "    </tr>\n",
              "    <tr>\n",
              "      <th>1.5</th>\n",
              "      <td>8074</td>\n",
              "    </tr>\n",
              "    <tr>\n",
              "      <th>2.0</th>\n",
              "      <td>34241</td>\n",
              "    </tr>\n",
              "    <tr>\n",
              "      <th>2.5</th>\n",
              "      <td>24832</td>\n",
              "    </tr>\n",
              "    <tr>\n",
              "      <th>3.0</th>\n",
              "      <td>101348</td>\n",
              "    </tr>\n",
              "    <tr>\n",
              "      <th>3.5</th>\n",
              "      <td>62811</td>\n",
              "    </tr>\n",
              "    <tr>\n",
              "      <th>4.0</th>\n",
              "      <td>132594</td>\n",
              "    </tr>\n",
              "    <tr>\n",
              "      <th>4.5</th>\n",
              "      <td>43729</td>\n",
              "    </tr>\n",
              "    <tr>\n",
              "      <th>5.0</th>\n",
              "      <td>72592</td>\n",
              "    </tr>\n",
              "  </tbody>\n",
              "</table>\n",
              "</div>\n",
              "      <button class=\"colab-df-convert\" onclick=\"convertToInteractive('df-36b59e08-db02-41b8-92ec-0cdcca5b7b21')\"\n",
              "              title=\"Convert this dataframe to an interactive table.\"\n",
              "              style=\"display:none;\">\n",
              "        \n",
              "  <svg xmlns=\"http://www.w3.org/2000/svg\" height=\"24px\"viewBox=\"0 0 24 24\"\n",
              "       width=\"24px\">\n",
              "    <path d=\"M0 0h24v24H0V0z\" fill=\"none\"/>\n",
              "    <path d=\"M18.56 5.44l.94 2.06.94-2.06 2.06-.94-2.06-.94-.94-2.06-.94 2.06-2.06.94zm-11 1L8.5 8.5l.94-2.06 2.06-.94-2.06-.94L8.5 2.5l-.94 2.06-2.06.94zm10 10l.94 2.06.94-2.06 2.06-.94-2.06-.94-.94-2.06-.94 2.06-2.06.94z\"/><path d=\"M17.41 7.96l-1.37-1.37c-.4-.4-.92-.59-1.43-.59-.52 0-1.04.2-1.43.59L10.3 9.45l-7.72 7.72c-.78.78-.78 2.05 0 2.83L4 21.41c.39.39.9.59 1.41.59.51 0 1.02-.2 1.41-.59l7.78-7.78 2.81-2.81c.8-.78.8-2.07 0-2.86zM5.41 20L4 18.59l7.72-7.72 1.47 1.35L5.41 20z\"/>\n",
              "  </svg>\n",
              "      </button>\n",
              "      \n",
              "  <style>\n",
              "    .colab-df-container {\n",
              "      display:flex;\n",
              "      flex-wrap:wrap;\n",
              "      gap: 12px;\n",
              "    }\n",
              "\n",
              "    .colab-df-convert {\n",
              "      background-color: #E8F0FE;\n",
              "      border: none;\n",
              "      border-radius: 50%;\n",
              "      cursor: pointer;\n",
              "      display: none;\n",
              "      fill: #1967D2;\n",
              "      height: 32px;\n",
              "      padding: 0 0 0 0;\n",
              "      width: 32px;\n",
              "    }\n",
              "\n",
              "    .colab-df-convert:hover {\n",
              "      background-color: #E2EBFA;\n",
              "      box-shadow: 0px 1px 2px rgba(60, 64, 67, 0.3), 0px 1px 3px 1px rgba(60, 64, 67, 0.15);\n",
              "      fill: #174EA6;\n",
              "    }\n",
              "\n",
              "    [theme=dark] .colab-df-convert {\n",
              "      background-color: #3B4455;\n",
              "      fill: #D2E3FC;\n",
              "    }\n",
              "\n",
              "    [theme=dark] .colab-df-convert:hover {\n",
              "      background-color: #434B5C;\n",
              "      box-shadow: 0px 1px 3px 1px rgba(0, 0, 0, 0.15);\n",
              "      filter: drop-shadow(0px 1px 2px rgba(0, 0, 0, 0.3));\n",
              "      fill: #FFFFFF;\n",
              "    }\n",
              "  </style>\n",
              "\n",
              "      <script>\n",
              "        const buttonEl =\n",
              "          document.querySelector('#df-36b59e08-db02-41b8-92ec-0cdcca5b7b21 button.colab-df-convert');\n",
              "        buttonEl.style.display =\n",
              "          google.colab.kernel.accessAllowed ? 'block' : 'none';\n",
              "\n",
              "        async function convertToInteractive(key) {\n",
              "          const element = document.querySelector('#df-36b59e08-db02-41b8-92ec-0cdcca5b7b21');\n",
              "          const dataTable =\n",
              "            await google.colab.kernel.invokeFunction('convertToInteractive',\n",
              "                                                     [key], {});\n",
              "          if (!dataTable) return;\n",
              "\n",
              "          const docLinkHtml = 'Like what you see? Visit the ' +\n",
              "            '<a target=\"_blank\" href=https://colab.research.google.com/notebooks/data_table.ipynb>data table notebook</a>'\n",
              "            + ' to learn more about interactive tables.';\n",
              "          element.innerHTML = '';\n",
              "          dataTable['output_type'] = 'display_data';\n",
              "          await google.colab.output.renderOutput(dataTable, element);\n",
              "          const docLink = document.createElement('div');\n",
              "          docLink.innerHTML = docLinkHtml;\n",
              "          element.appendChild(docLink);\n",
              "        }\n",
              "      </script>\n",
              "    </div>\n",
              "  </div>\n",
              "  "
            ],
            "text/plain": [
              "         count\n",
              "rating        \n",
              "0.5       7616\n",
              "1.0      16070\n",
              "1.5       8074\n",
              "2.0      34241\n",
              "2.5      24832\n",
              "3.0     101348\n",
              "3.5      62811\n",
              "4.0     132594\n",
              "4.5      43729\n",
              "5.0      72592"
            ]
          },
          "metadata": {},
          "execution_count": 15
        }
      ]
    },
    {
      "cell_type": "markdown",
      "source": [
        "Podemos ver que la tabla anterior no incluye recuentos de puntuación de calificación cero. Entonces, también debemos agregar eso en el marco de datos de conteo de calificaciones"
      ],
      "metadata": {
        "id": "p-DIjQWJ6NkJ"
      }
    },
    {
      "cell_type": "code",
      "source": [
        "total_cnt = num_users * num_items\n",
        "rating_zero_cnt = total_cnt - df_ratings.shape[0]\n",
        "# agregar recuentos de calificación cero a df_ratings_cnt\n",
        "df_ratings_cnt = df_ratings_cnt_tmp.append(\n",
        "    pd.DataFrame({'count': rating_zero_cnt}, index=[0.0]),\n",
        "    verify_integrity=True,\n",
        ").sort_index()\n",
        "df_ratings_cnt"
      ],
      "metadata": {
        "colab": {
          "base_uri": "https://localhost:8080/",
          "height": 394
        },
        "id": "kFf15mk55PmX",
        "outputId": "1f12b9e1-7dc7-44b5-ab89-9936670a82a3"
      },
      "execution_count": null,
      "outputs": [
        {
          "output_type": "execute_result",
          "data": {
            "text/html": [
              "\n",
              "  <div id=\"df-a858dfed-5e95-45ad-b42c-5a4d920dc62e\">\n",
              "    <div class=\"colab-df-container\">\n",
              "      <div>\n",
              "<style scoped>\n",
              "    .dataframe tbody tr th:only-of-type {\n",
              "        vertical-align: middle;\n",
              "    }\n",
              "\n",
              "    .dataframe tbody tr th {\n",
              "        vertical-align: top;\n",
              "    }\n",
              "\n",
              "    .dataframe thead th {\n",
              "        text-align: right;\n",
              "    }\n",
              "</style>\n",
              "<table border=\"1\" class=\"dataframe\">\n",
              "  <thead>\n",
              "    <tr style=\"text-align: right;\">\n",
              "      <th></th>\n",
              "      <th>count</th>\n",
              "    </tr>\n",
              "  </thead>\n",
              "  <tbody>\n",
              "    <tr>\n",
              "      <th>0.0</th>\n",
              "      <td>91148481</td>\n",
              "    </tr>\n",
              "    <tr>\n",
              "      <th>0.5</th>\n",
              "      <td>7616</td>\n",
              "    </tr>\n",
              "    <tr>\n",
              "      <th>1.0</th>\n",
              "      <td>16070</td>\n",
              "    </tr>\n",
              "    <tr>\n",
              "      <th>1.5</th>\n",
              "      <td>8074</td>\n",
              "    </tr>\n",
              "    <tr>\n",
              "      <th>2.0</th>\n",
              "      <td>34241</td>\n",
              "    </tr>\n",
              "    <tr>\n",
              "      <th>2.5</th>\n",
              "      <td>24832</td>\n",
              "    </tr>\n",
              "    <tr>\n",
              "      <th>3.0</th>\n",
              "      <td>101348</td>\n",
              "    </tr>\n",
              "    <tr>\n",
              "      <th>3.5</th>\n",
              "      <td>62811</td>\n",
              "    </tr>\n",
              "    <tr>\n",
              "      <th>4.0</th>\n",
              "      <td>132594</td>\n",
              "    </tr>\n",
              "    <tr>\n",
              "      <th>4.5</th>\n",
              "      <td>43729</td>\n",
              "    </tr>\n",
              "    <tr>\n",
              "      <th>5.0</th>\n",
              "      <td>72592</td>\n",
              "    </tr>\n",
              "  </tbody>\n",
              "</table>\n",
              "</div>\n",
              "      <button class=\"colab-df-convert\" onclick=\"convertToInteractive('df-a858dfed-5e95-45ad-b42c-5a4d920dc62e')\"\n",
              "              title=\"Convert this dataframe to an interactive table.\"\n",
              "              style=\"display:none;\">\n",
              "        \n",
              "  <svg xmlns=\"http://www.w3.org/2000/svg\" height=\"24px\"viewBox=\"0 0 24 24\"\n",
              "       width=\"24px\">\n",
              "    <path d=\"M0 0h24v24H0V0z\" fill=\"none\"/>\n",
              "    <path d=\"M18.56 5.44l.94 2.06.94-2.06 2.06-.94-2.06-.94-.94-2.06-.94 2.06-2.06.94zm-11 1L8.5 8.5l.94-2.06 2.06-.94-2.06-.94L8.5 2.5l-.94 2.06-2.06.94zm10 10l.94 2.06.94-2.06 2.06-.94-2.06-.94-.94-2.06-.94 2.06-2.06.94z\"/><path d=\"M17.41 7.96l-1.37-1.37c-.4-.4-.92-.59-1.43-.59-.52 0-1.04.2-1.43.59L10.3 9.45l-7.72 7.72c-.78.78-.78 2.05 0 2.83L4 21.41c.39.39.9.59 1.41.59.51 0 1.02-.2 1.41-.59l7.78-7.78 2.81-2.81c.8-.78.8-2.07 0-2.86zM5.41 20L4 18.59l7.72-7.72 1.47 1.35L5.41 20z\"/>\n",
              "  </svg>\n",
              "      </button>\n",
              "      \n",
              "  <style>\n",
              "    .colab-df-container {\n",
              "      display:flex;\n",
              "      flex-wrap:wrap;\n",
              "      gap: 12px;\n",
              "    }\n",
              "\n",
              "    .colab-df-convert {\n",
              "      background-color: #E8F0FE;\n",
              "      border: none;\n",
              "      border-radius: 50%;\n",
              "      cursor: pointer;\n",
              "      display: none;\n",
              "      fill: #1967D2;\n",
              "      height: 32px;\n",
              "      padding: 0 0 0 0;\n",
              "      width: 32px;\n",
              "    }\n",
              "\n",
              "    .colab-df-convert:hover {\n",
              "      background-color: #E2EBFA;\n",
              "      box-shadow: 0px 1px 2px rgba(60, 64, 67, 0.3), 0px 1px 3px 1px rgba(60, 64, 67, 0.15);\n",
              "      fill: #174EA6;\n",
              "    }\n",
              "\n",
              "    [theme=dark] .colab-df-convert {\n",
              "      background-color: #3B4455;\n",
              "      fill: #D2E3FC;\n",
              "    }\n",
              "\n",
              "    [theme=dark] .colab-df-convert:hover {\n",
              "      background-color: #434B5C;\n",
              "      box-shadow: 0px 1px 3px 1px rgba(0, 0, 0, 0.15);\n",
              "      filter: drop-shadow(0px 1px 2px rgba(0, 0, 0, 0.3));\n",
              "      fill: #FFFFFF;\n",
              "    }\n",
              "  </style>\n",
              "\n",
              "      <script>\n",
              "        const buttonEl =\n",
              "          document.querySelector('#df-a858dfed-5e95-45ad-b42c-5a4d920dc62e button.colab-df-convert');\n",
              "        buttonEl.style.display =\n",
              "          google.colab.kernel.accessAllowed ? 'block' : 'none';\n",
              "\n",
              "        async function convertToInteractive(key) {\n",
              "          const element = document.querySelector('#df-a858dfed-5e95-45ad-b42c-5a4d920dc62e');\n",
              "          const dataTable =\n",
              "            await google.colab.kernel.invokeFunction('convertToInteractive',\n",
              "                                                     [key], {});\n",
              "          if (!dataTable) return;\n",
              "\n",
              "          const docLinkHtml = 'Like what you see? Visit the ' +\n",
              "            '<a target=\"_blank\" href=https://colab.research.google.com/notebooks/data_table.ipynb>data table notebook</a>'\n",
              "            + ' to learn more about interactive tables.';\n",
              "          element.innerHTML = '';\n",
              "          dataTable['output_type'] = 'display_data';\n",
              "          await google.colab.output.renderOutput(dataTable, element);\n",
              "          const docLink = document.createElement('div');\n",
              "          docLink.innerHTML = docLinkHtml;\n",
              "          element.appendChild(docLink);\n",
              "        }\n",
              "      </script>\n",
              "    </div>\n",
              "  </div>\n",
              "  "
            ],
            "text/plain": [
              "        count\n",
              "0.0  91148481\n",
              "0.5      7616\n",
              "1.0     16070\n",
              "1.5      8074\n",
              "2.0     34241\n",
              "2.5     24832\n",
              "3.0    101348\n",
              "3.5     62811\n",
              "4.0    132594\n",
              "4.5     43729\n",
              "5.0     72592"
            ]
          },
          "metadata": {},
          "execution_count": 16
        }
      ]
    },
    {
      "cell_type": "markdown",
      "source": [
        "El conteo de la puntuación de cero es demasiado grande para compararlo con los demás. Así que vamos a tomar la transformación logarítmica para los valores de conteo y luego podemos trazarlos para comparar"
      ],
      "metadata": {
        "id": "pPd7VoPL6BK7"
      }
    },
    {
      "cell_type": "code",
      "source": [
        "# Añadir conteo logarítmico\n",
        "df_ratings_cnt['log_count'] = np.log(df_ratings_cnt['count'])\n",
        "df_ratings_cnt"
      ],
      "metadata": {
        "id": "v2GuqEVD7KCl",
        "colab": {
          "base_uri": "https://localhost:8080/",
          "height": 394
        },
        "outputId": "504cb297-33cb-4b75-feaf-5dfb778ff157"
      },
      "execution_count": null,
      "outputs": [
        {
          "output_type": "execute_result",
          "data": {
            "text/html": [
              "\n",
              "  <div id=\"df-31938295-5438-4a02-863c-069cb4120470\">\n",
              "    <div class=\"colab-df-container\">\n",
              "      <div>\n",
              "<style scoped>\n",
              "    .dataframe tbody tr th:only-of-type {\n",
              "        vertical-align: middle;\n",
              "    }\n",
              "\n",
              "    .dataframe tbody tr th {\n",
              "        vertical-align: top;\n",
              "    }\n",
              "\n",
              "    .dataframe thead th {\n",
              "        text-align: right;\n",
              "    }\n",
              "</style>\n",
              "<table border=\"1\" class=\"dataframe\">\n",
              "  <thead>\n",
              "    <tr style=\"text-align: right;\">\n",
              "      <th></th>\n",
              "      <th>count</th>\n",
              "      <th>log_count</th>\n",
              "    </tr>\n",
              "  </thead>\n",
              "  <tbody>\n",
              "    <tr>\n",
              "      <th>0.0</th>\n",
              "      <td>91148481</td>\n",
              "      <td>18.328000</td>\n",
              "    </tr>\n",
              "    <tr>\n",
              "      <th>0.5</th>\n",
              "      <td>7616</td>\n",
              "      <td>8.938007</td>\n",
              "    </tr>\n",
              "    <tr>\n",
              "      <th>1.0</th>\n",
              "      <td>16070</td>\n",
              "      <td>9.684709</td>\n",
              "    </tr>\n",
              "    <tr>\n",
              "      <th>1.5</th>\n",
              "      <td>8074</td>\n",
              "      <td>8.996404</td>\n",
              "    </tr>\n",
              "    <tr>\n",
              "      <th>2.0</th>\n",
              "      <td>34241</td>\n",
              "      <td>10.441179</td>\n",
              "    </tr>\n",
              "    <tr>\n",
              "      <th>2.5</th>\n",
              "      <td>24832</td>\n",
              "      <td>10.119888</td>\n",
              "    </tr>\n",
              "    <tr>\n",
              "      <th>3.0</th>\n",
              "      <td>101348</td>\n",
              "      <td>11.526315</td>\n",
              "    </tr>\n",
              "    <tr>\n",
              "      <th>3.5</th>\n",
              "      <td>62811</td>\n",
              "      <td>11.047885</td>\n",
              "    </tr>\n",
              "    <tr>\n",
              "      <th>4.0</th>\n",
              "      <td>132594</td>\n",
              "      <td>11.795047</td>\n",
              "    </tr>\n",
              "    <tr>\n",
              "      <th>4.5</th>\n",
              "      <td>43729</td>\n",
              "      <td>10.685767</td>\n",
              "    </tr>\n",
              "    <tr>\n",
              "      <th>5.0</th>\n",
              "      <td>72592</td>\n",
              "      <td>11.192610</td>\n",
              "    </tr>\n",
              "  </tbody>\n",
              "</table>\n",
              "</div>\n",
              "      <button class=\"colab-df-convert\" onclick=\"convertToInteractive('df-31938295-5438-4a02-863c-069cb4120470')\"\n",
              "              title=\"Convert this dataframe to an interactive table.\"\n",
              "              style=\"display:none;\">\n",
              "        \n",
              "  <svg xmlns=\"http://www.w3.org/2000/svg\" height=\"24px\"viewBox=\"0 0 24 24\"\n",
              "       width=\"24px\">\n",
              "    <path d=\"M0 0h24v24H0V0z\" fill=\"none\"/>\n",
              "    <path d=\"M18.56 5.44l.94 2.06.94-2.06 2.06-.94-2.06-.94-.94-2.06-.94 2.06-2.06.94zm-11 1L8.5 8.5l.94-2.06 2.06-.94-2.06-.94L8.5 2.5l-.94 2.06-2.06.94zm10 10l.94 2.06.94-2.06 2.06-.94-2.06-.94-.94-2.06-.94 2.06-2.06.94z\"/><path d=\"M17.41 7.96l-1.37-1.37c-.4-.4-.92-.59-1.43-.59-.52 0-1.04.2-1.43.59L10.3 9.45l-7.72 7.72c-.78.78-.78 2.05 0 2.83L4 21.41c.39.39.9.59 1.41.59.51 0 1.02-.2 1.41-.59l7.78-7.78 2.81-2.81c.8-.78.8-2.07 0-2.86zM5.41 20L4 18.59l7.72-7.72 1.47 1.35L5.41 20z\"/>\n",
              "  </svg>\n",
              "      </button>\n",
              "      \n",
              "  <style>\n",
              "    .colab-df-container {\n",
              "      display:flex;\n",
              "      flex-wrap:wrap;\n",
              "      gap: 12px;\n",
              "    }\n",
              "\n",
              "    .colab-df-convert {\n",
              "      background-color: #E8F0FE;\n",
              "      border: none;\n",
              "      border-radius: 50%;\n",
              "      cursor: pointer;\n",
              "      display: none;\n",
              "      fill: #1967D2;\n",
              "      height: 32px;\n",
              "      padding: 0 0 0 0;\n",
              "      width: 32px;\n",
              "    }\n",
              "\n",
              "    .colab-df-convert:hover {\n",
              "      background-color: #E2EBFA;\n",
              "      box-shadow: 0px 1px 2px rgba(60, 64, 67, 0.3), 0px 1px 3px 1px rgba(60, 64, 67, 0.15);\n",
              "      fill: #174EA6;\n",
              "    }\n",
              "\n",
              "    [theme=dark] .colab-df-convert {\n",
              "      background-color: #3B4455;\n",
              "      fill: #D2E3FC;\n",
              "    }\n",
              "\n",
              "    [theme=dark] .colab-df-convert:hover {\n",
              "      background-color: #434B5C;\n",
              "      box-shadow: 0px 1px 3px 1px rgba(0, 0, 0, 0.15);\n",
              "      filter: drop-shadow(0px 1px 2px rgba(0, 0, 0, 0.3));\n",
              "      fill: #FFFFFF;\n",
              "    }\n",
              "  </style>\n",
              "\n",
              "      <script>\n",
              "        const buttonEl =\n",
              "          document.querySelector('#df-31938295-5438-4a02-863c-069cb4120470 button.colab-df-convert');\n",
              "        buttonEl.style.display =\n",
              "          google.colab.kernel.accessAllowed ? 'block' : 'none';\n",
              "\n",
              "        async function convertToInteractive(key) {\n",
              "          const element = document.querySelector('#df-31938295-5438-4a02-863c-069cb4120470');\n",
              "          const dataTable =\n",
              "            await google.colab.kernel.invokeFunction('convertToInteractive',\n",
              "                                                     [key], {});\n",
              "          if (!dataTable) return;\n",
              "\n",
              "          const docLinkHtml = 'Like what you see? Visit the ' +\n",
              "            '<a target=\"_blank\" href=https://colab.research.google.com/notebooks/data_table.ipynb>data table notebook</a>'\n",
              "            + ' to learn more about interactive tables.';\n",
              "          element.innerHTML = '';\n",
              "          dataTable['output_type'] = 'display_data';\n",
              "          await google.colab.output.renderOutput(dataTable, element);\n",
              "          const docLink = document.createElement('div');\n",
              "          docLink.innerHTML = docLinkHtml;\n",
              "          element.appendChild(docLink);\n",
              "        }\n",
              "      </script>\n",
              "    </div>\n",
              "  </div>\n",
              "  "
            ],
            "text/plain": [
              "        count  log_count\n",
              "0.0  91148481  18.328000\n",
              "0.5      7616   8.938007\n",
              "1.0     16070   9.684709\n",
              "1.5      8074   8.996404\n",
              "2.0     34241  10.441179\n",
              "2.5     24832  10.119888\n",
              "3.0    101348  11.526315\n",
              "3.5     62811  11.047885\n",
              "4.0    132594  11.795047\n",
              "4.5     43729  10.685767\n",
              "5.0     72592  11.192610"
            ]
          },
          "metadata": {},
          "execution_count": 17
        }
      ]
    },
    {
      "cell_type": "code",
      "source": [
        "ax = df_ratings_cnt[['count']].reset_index().rename(columns={'index': 'rating score'}).plot(\n",
        "    x='rating score',\n",
        "    y='count',\n",
        "    kind='bar',\n",
        "    figsize=(12, 8),\n",
        "    title='Conteo por cada calificación (en escala logarítmica)',\n",
        "    logy=True,\n",
        "    fontsize=12,\n",
        ")\n",
        "ax.set_xlabel(\"calificación de la película\")\n",
        "ax.set_ylabel(\"número de calificaciones\")"
      ],
      "metadata": {
        "colab": {
          "base_uri": "https://localhost:8080/",
          "height": 543
        },
        "id": "WpafJFnn7aG_",
        "outputId": "10d8940b-aa46-4ded-afef-ca9c59d58805"
      },
      "execution_count": null,
      "outputs": [
        {
          "output_type": "execute_result",
          "data": {
            "text/plain": [
              "Text(0, 0.5, 'número de calificaciones')"
            ]
          },
          "metadata": {},
          "execution_count": 18
        },
        {
          "output_type": "display_data",
          "data": {
            "image/png": "[encoded data removed]",
            "text/plain": [
              "<Figure size 864x576 with 1 Axes>"
            ]
          },
          "metadata": {
            "needs_background": "light"
          }
        }
      ]
    },
    {
      "cell_type": "markdown",
      "source": [
        "Es interesante que hay más personas que otorgan puntajes de calificación de 3 y 4 que otros puntajes."
      ],
      "metadata": {
        "id": "GyzThptC71VW"
      }
    },
    {
      "cell_type": "markdown",
      "source": [
        "***Frecuencia de calificación de todas las películas.***"
      ],
      "metadata": {
        "id": "garw-X1a77K3"
      }
    },
    {
      "cell_type": "code",
      "source": [
        "df_ratings.head()"
      ],
      "metadata": {
        "id": "mVVp0wFP8EdP",
        "colab": {
          "base_uri": "https://localhost:8080/",
          "height": 206
        },
        "outputId": "9bf5aa27-81a4-41a1-c282-7480a86a2d66"
      },
      "execution_count": null,
      "outputs": [
        {
          "output_type": "execute_result",
          "data": {
            "text/html": [
              "\n",
              "  <div id=\"df-c8446200-b833-4e21-b52e-8ee1b06986d3\">\n",
              "    <div class=\"colab-df-container\">\n",
              "      <div>\n",
              "<style scoped>\n",
              "    .dataframe tbody tr th:only-of-type {\n",
              "        vertical-align: middle;\n",
              "    }\n",
              "\n",
              "    .dataframe tbody tr th {\n",
              "        vertical-align: top;\n",
              "    }\n",
              "\n",
              "    .dataframe thead th {\n",
              "        text-align: right;\n",
              "    }\n",
              "</style>\n",
              "<table border=\"1\" class=\"dataframe\">\n",
              "  <thead>\n",
              "    <tr style=\"text-align: right;\">\n",
              "      <th></th>\n",
              "      <th>userId</th>\n",
              "      <th>movieId</th>\n",
              "      <th>rating</th>\n",
              "    </tr>\n",
              "  </thead>\n",
              "  <tbody>\n",
              "    <tr>\n",
              "      <th>0</th>\n",
              "      <td>1</td>\n",
              "      <td>307</td>\n",
              "      <td>3.5</td>\n",
              "    </tr>\n",
              "    <tr>\n",
              "      <th>1</th>\n",
              "      <td>1</td>\n",
              "      <td>481</td>\n",
              "      <td>3.5</td>\n",
              "    </tr>\n",
              "    <tr>\n",
              "      <th>2</th>\n",
              "      <td>1</td>\n",
              "      <td>1091</td>\n",
              "      <td>1.5</td>\n",
              "    </tr>\n",
              "    <tr>\n",
              "      <th>3</th>\n",
              "      <td>1</td>\n",
              "      <td>1257</td>\n",
              "      <td>4.5</td>\n",
              "    </tr>\n",
              "    <tr>\n",
              "      <th>4</th>\n",
              "      <td>1</td>\n",
              "      <td>1449</td>\n",
              "      <td>4.5</td>\n",
              "    </tr>\n",
              "  </tbody>\n",
              "</table>\n",
              "</div>\n",
              "      <button class=\"colab-df-convert\" onclick=\"convertToInteractive('df-c8446200-b833-4e21-b52e-8ee1b06986d3')\"\n",
              "              title=\"Convert this dataframe to an interactive table.\"\n",
              "              style=\"display:none;\">\n",
              "        \n",
              "  <svg xmlns=\"http://www.w3.org/2000/svg\" height=\"24px\"viewBox=\"0 0 24 24\"\n",
              "       width=\"24px\">\n",
              "    <path d=\"M0 0h24v24H0V0z\" fill=\"none\"/>\n",
              "    <path d=\"M18.56 5.44l.94 2.06.94-2.06 2.06-.94-2.06-.94-.94-2.06-.94 2.06-2.06.94zm-11 1L8.5 8.5l.94-2.06 2.06-.94-2.06-.94L8.5 2.5l-.94 2.06-2.06.94zm10 10l.94 2.06.94-2.06 2.06-.94-2.06-.94-.94-2.06-.94 2.06-2.06.94z\"/><path d=\"M17.41 7.96l-1.37-1.37c-.4-.4-.92-.59-1.43-.59-.52 0-1.04.2-1.43.59L10.3 9.45l-7.72 7.72c-.78.78-.78 2.05 0 2.83L4 21.41c.39.39.9.59 1.41.59.51 0 1.02-.2 1.41-.59l7.78-7.78 2.81-2.81c.8-.78.8-2.07 0-2.86zM5.41 20L4 18.59l7.72-7.72 1.47 1.35L5.41 20z\"/>\n",
              "  </svg>\n",
              "      </button>\n",
              "      \n",
              "  <style>\n",
              "    .colab-df-container {\n",
              "      display:flex;\n",
              "      flex-wrap:wrap;\n",
              "      gap: 12px;\n",
              "    }\n",
              "\n",
              "    .colab-df-convert {\n",
              "      background-color: #E8F0FE;\n",
              "      border: none;\n",
              "      border-radius: 50%;\n",
              "      cursor: pointer;\n",
              "      display: none;\n",
              "      fill: #1967D2;\n",
              "      height: 32px;\n",
              "      padding: 0 0 0 0;\n",
              "      width: 32px;\n",
              "    }\n",
              "\n",
              "    .colab-df-convert:hover {\n",
              "      background-color: #E2EBFA;\n",
              "      box-shadow: 0px 1px 2px rgba(60, 64, 67, 0.3), 0px 1px 3px 1px rgba(60, 64, 67, 0.15);\n",
              "      fill: #174EA6;\n",
              "    }\n",
              "\n",
              "    [theme=dark] .colab-df-convert {\n",
              "      background-color: #3B4455;\n",
              "      fill: #D2E3FC;\n",
              "    }\n",
              "\n",
              "    [theme=dark] .colab-df-convert:hover {\n",
              "      background-color: #434B5C;\n",
              "      box-shadow: 0px 1px 3px 1px rgba(0, 0, 0, 0.15);\n",
              "      filter: drop-shadow(0px 1px 2px rgba(0, 0, 0, 0.3));\n",
              "      fill: #FFFFFF;\n",
              "    }\n",
              "  </style>\n",
              "\n",
              "      <script>\n",
              "        const buttonEl =\n",
              "          document.querySelector('#df-c8446200-b833-4e21-b52e-8ee1b06986d3 button.colab-df-convert');\n",
              "        buttonEl.style.display =\n",
              "          google.colab.kernel.accessAllowed ? 'block' : 'none';\n",
              "\n",
              "        async function convertToInteractive(key) {\n",
              "          const element = document.querySelector('#df-c8446200-b833-4e21-b52e-8ee1b06986d3');\n",
              "          const dataTable =\n",
              "            await google.colab.kernel.invokeFunction('convertToInteractive',\n",
              "                                                     [key], {});\n",
              "          if (!dataTable) return;\n",
              "\n",
              "          const docLinkHtml = 'Like what you see? Visit the ' +\n",
              "            '<a target=\"_blank\" href=https://colab.research.google.com/notebooks/data_table.ipynb>data table notebook</a>'\n",
              "            + ' to learn more about interactive tables.';\n",
              "          element.innerHTML = '';\n",
              "          dataTable['output_type'] = 'display_data';\n",
              "          await google.colab.output.renderOutput(dataTable, element);\n",
              "          const docLink = document.createElement('div');\n",
              "          docLink.innerHTML = docLinkHtml;\n",
              "          element.appendChild(docLink);\n",
              "        }\n",
              "      </script>\n",
              "    </div>\n",
              "  </div>\n",
              "  "
            ],
            "text/plain": [
              "   userId  movieId  rating\n",
              "0       1      307     3.5\n",
              "1       1      481     3.5\n",
              "2       1     1091     1.5\n",
              "3       1     1257     4.5\n",
              "4       1     1449     4.5"
            ]
          },
          "metadata": {},
          "execution_count": 19
        }
      ]
    },
    {
      "cell_type": "code",
      "source": [
        "# obteniendo la freciencia de los ratings\n",
        "df_movies_cnt = pd.DataFrame(df_ratings.groupby('movieId').size(), columns=['count'])\n",
        "df_movies_cnt.head()"
      ],
      "metadata": {
        "id": "F2upJJ0t8GSn",
        "colab": {
          "base_uri": "https://localhost:8080/",
          "height": 238
        },
        "outputId": "1c2f563e-0a1c-406a-ed2e-5d3180f8bbaf"
      },
      "execution_count": null,
      "outputs": [
        {
          "output_type": "execute_result",
          "data": {
            "text/html": [
              "\n",
              "  <div id=\"df-9efbd336-58e6-4eec-adde-9172913e0263\">\n",
              "    <div class=\"colab-df-container\">\n",
              "      <div>\n",
              "<style scoped>\n",
              "    .dataframe tbody tr th:only-of-type {\n",
              "        vertical-align: middle;\n",
              "    }\n",
              "\n",
              "    .dataframe tbody tr th {\n",
              "        vertical-align: top;\n",
              "    }\n",
              "\n",
              "    .dataframe thead th {\n",
              "        text-align: right;\n",
              "    }\n",
              "</style>\n",
              "<table border=\"1\" class=\"dataframe\">\n",
              "  <thead>\n",
              "    <tr style=\"text-align: right;\">\n",
              "      <th></th>\n",
              "      <th>count</th>\n",
              "    </tr>\n",
              "    <tr>\n",
              "      <th>movieId</th>\n",
              "      <th></th>\n",
              "    </tr>\n",
              "  </thead>\n",
              "  <tbody>\n",
              "    <tr>\n",
              "      <th>1</th>\n",
              "      <td>1244</td>\n",
              "    </tr>\n",
              "    <tr>\n",
              "      <th>2</th>\n",
              "      <td>478</td>\n",
              "    </tr>\n",
              "    <tr>\n",
              "      <th>3</th>\n",
              "      <td>293</td>\n",
              "    </tr>\n",
              "    <tr>\n",
              "      <th>4</th>\n",
              "      <td>64</td>\n",
              "    </tr>\n",
              "    <tr>\n",
              "      <th>5</th>\n",
              "      <td>281</td>\n",
              "    </tr>\n",
              "  </tbody>\n",
              "</table>\n",
              "</div>\n",
              "      <button class=\"colab-df-convert\" onclick=\"convertToInteractive('df-9efbd336-58e6-4eec-adde-9172913e0263')\"\n",
              "              title=\"Convert this dataframe to an interactive table.\"\n",
              "              style=\"display:none;\">\n",
              "        \n",
              "  <svg xmlns=\"http://www.w3.org/2000/svg\" height=\"24px\"viewBox=\"0 0 24 24\"\n",
              "       width=\"24px\">\n",
              "    <path d=\"M0 0h24v24H0V0z\" fill=\"none\"/>\n",
              "    <path d=\"M18.56 5.44l.94 2.06.94-2.06 2.06-.94-2.06-.94-.94-2.06-.94 2.06-2.06.94zm-11 1L8.5 8.5l.94-2.06 2.06-.94-2.06-.94L8.5 2.5l-.94 2.06-2.06.94zm10 10l.94 2.06.94-2.06 2.06-.94-2.06-.94-.94-2.06-.94 2.06-2.06.94z\"/><path d=\"M17.41 7.96l-1.37-1.37c-.4-.4-.92-.59-1.43-.59-.52 0-1.04.2-1.43.59L10.3 9.45l-7.72 7.72c-.78.78-.78 2.05 0 2.83L4 21.41c.39.39.9.59 1.41.59.51 0 1.02-.2 1.41-.59l7.78-7.78 2.81-2.81c.8-.78.8-2.07 0-2.86zM5.41 20L4 18.59l7.72-7.72 1.47 1.35L5.41 20z\"/>\n",
              "  </svg>\n",
              "      </button>\n",
              "      \n",
              "  <style>\n",
              "    .colab-df-container {\n",
              "      display:flex;\n",
              "      flex-wrap:wrap;\n",
              "      gap: 12px;\n",
              "    }\n",
              "\n",
              "    .colab-df-convert {\n",
              "      background-color: #E8F0FE;\n",
              "      border: none;\n",
              "      border-radius: 50%;\n",
              "      cursor: pointer;\n",
              "      display: none;\n",
              "      fill: #1967D2;\n",
              "      height: 32px;\n",
              "      padding: 0 0 0 0;\n",
              "      width: 32px;\n",
              "    }\n",
              "\n",
              "    .colab-df-convert:hover {\n",
              "      background-color: #E2EBFA;\n",
              "      box-shadow: 0px 1px 2px rgba(60, 64, 67, 0.3), 0px 1px 3px 1px rgba(60, 64, 67, 0.15);\n",
              "      fill: #174EA6;\n",
              "    }\n",
              "\n",
              "    [theme=dark] .colab-df-convert {\n",
              "      background-color: #3B4455;\n",
              "      fill: #D2E3FC;\n",
              "    }\n",
              "\n",
              "    [theme=dark] .colab-df-convert:hover {\n",
              "      background-color: #434B5C;\n",
              "      box-shadow: 0px 1px 3px 1px rgba(0, 0, 0, 0.15);\n",
              "      filter: drop-shadow(0px 1px 2px rgba(0, 0, 0, 0.3));\n",
              "      fill: #FFFFFF;\n",
              "    }\n",
              "  </style>\n",
              "\n",
              "      <script>\n",
              "        const buttonEl =\n",
              "          document.querySelector('#df-9efbd336-58e6-4eec-adde-9172913e0263 button.colab-df-convert');\n",
              "        buttonEl.style.display =\n",
              "          google.colab.kernel.accessAllowed ? 'block' : 'none';\n",
              "\n",
              "        async function convertToInteractive(key) {\n",
              "          const element = document.querySelector('#df-9efbd336-58e6-4eec-adde-9172913e0263');\n",
              "          const dataTable =\n",
              "            await google.colab.kernel.invokeFunction('convertToInteractive',\n",
              "                                                     [key], {});\n",
              "          if (!dataTable) return;\n",
              "\n",
              "          const docLinkHtml = 'Like what you see? Visit the ' +\n",
              "            '<a target=\"_blank\" href=https://colab.research.google.com/notebooks/data_table.ipynb>data table notebook</a>'\n",
              "            + ' to learn more about interactive tables.';\n",
              "          element.innerHTML = '';\n",
              "          dataTable['output_type'] = 'display_data';\n",
              "          await google.colab.output.renderOutput(dataTable, element);\n",
              "          const docLink = document.createElement('div');\n",
              "          docLink.innerHTML = docLinkHtml;\n",
              "          element.appendChild(docLink);\n",
              "        }\n",
              "      </script>\n",
              "    </div>\n",
              "  </div>\n",
              "  "
            ],
            "text/plain": [
              "         count\n",
              "movieId       \n",
              "1         1244\n",
              "2          478\n",
              "3          293\n",
              "4           64\n",
              "5          281"
            ]
          },
          "metadata": {},
          "execution_count": 20
        }
      ]
    },
    {
      "cell_type": "code",
      "source": [
        "# graficar  frecuencia de ratings de todas las peliculas \n",
        "ax = df_movies_cnt \\\n",
        "    .sort_values('count', ascending=False) \\\n",
        "    .reset_index(drop=True) \\\n",
        "    .plot(\n",
        "        figsize=(12, 8),\n",
        "        title='Frecuencia de calificación de todas las películas',\n",
        "        fontsize=12\n",
        "    )\n",
        "ax.set_xlabel(\"movie Id\")\n",
        "ax.set_ylabel(\"número de calificaciones\")"
      ],
      "metadata": {
        "id": "ASqgB_iM8JXz",
        "colab": {
          "base_uri": "https://localhost:8080/",
          "height": 538
        },
        "outputId": "0b1ab566-12da-4970-bd30-27492393c93e"
      },
      "execution_count": null,
      "outputs": [
        {
          "output_type": "execute_result",
          "data": {
            "text/plain": [
              "Text(0, 0.5, 'número de calificaciones')"
            ]
          },
          "metadata": {},
          "execution_count": 21
        },
        {
          "output_type": "display_data",
          "data": {
            "image/png": "[encoded data removed]",
            "text/plain": [
              "<Figure size 864x576 with 1 Axes>"
            ]
          },
          "metadata": {
            "needs_background": "light"
          }
        }
      ]
    },
    {
      "cell_type": "markdown",
      "source": [
        "La distribución de las puntuaciones entre las películas suele satisfacer una propiedad en el mundo real, que se denomina propiedad de cola larga. Según esta propiedad, sólo una pequeña fracción de los artículos se califica con frecuencia. Estos elementos se denominan elementos populares. La gran mayoría de los artículos se valoran con poca frecuencia. Esto da lugar a una distribución muy sesgada de las valoraciones subyacentes.\n",
        "\n",
        "Trazamos la misma distribución pero con escala logarítmica"
      ],
      "metadata": {
        "id": "yaqcsSuB8MqV"
      }
    },
    {
      "cell_type": "markdown",
      "source": [
        "Grafiquemos la misma distribución pero con escala logarítmica"
      ],
      "metadata": {
        "id": "ZIoBG0fa8NDX"
      }
    },
    {
      "cell_type": "code",
      "source": [
        "# Grafica de la frecuencia de ratings en escala logaritmica \n",
        "ax = df_movies_cnt \\\n",
        "    .sort_values('count', ascending=False) \\\n",
        "    .reset_index(drop=True) \\\n",
        "    .plot(\n",
        "        figsize=(12, 8),\n",
        "        title='Frecuencia de Rating de todas las películas en escala logaritmica',\n",
        "        fontsize=12,\n",
        "        logy=True\n",
        "    )\n",
        "ax.set_xlabel(\"movie Id\")\n",
        "ax.set_ylabel(\"número de calificaciones (escala logarítmica)\")"
      ],
      "metadata": {
        "id": "3xrtzYaZ8QPn",
        "colab": {
          "base_uri": "https://localhost:8080/",
          "height": 538
        },
        "outputId": "6fe75c1e-9aea-4bc8-e553-2187d173a910"
      },
      "execution_count": null,
      "outputs": [
        {
          "output_type": "execute_result",
          "data": {
            "text/plain": [
              "Text(0, 0.5, 'número de calificaciones (escala logarítmica)')"
            ]
          },
          "metadata": {},
          "execution_count": 22
        },
        {
          "output_type": "display_data",
          "data": {
            "image/png": "[encoded data removed]",
            "text/plain": [
              "<Figure size 864x576 with 1 Axes>"
            ]
          },
          "metadata": {
            "needs_background": "light"
          }
        }
      ]
    },
    {
      "cell_type": "markdown",
      "source": [
        "Podemos ver que aproximadamente 10 000 de 53 889 películas tienen más de 100 calificaciones. Más interesante aún, aproximadamente 20 000 de 53 889 películas tienen menos de 10 calificaciones. Miremos más de cerca mostrando los cuantiles superiores de recuentos de calificación"
      ],
      "metadata": {
        "id": "UXSQMUNl8fq3"
      }
    },
    {
      "cell_type": "code",
      "source": [
        "df_movies_cnt['count'].quantile(np.arange(1, 0.6, -0.05))"
      ],
      "metadata": {
        "id": "e7CPgPRW8jfn",
        "colab": {
          "base_uri": "https://localhost:8080/"
        },
        "outputId": "32b8492d-c492-46bb-8dcb-6cb4c4bf98ae"
      },
      "execution_count": null,
      "outputs": [
        {
          "output_type": "execute_result",
          "data": {
            "text/plain": [
              "1.00    1789.0\n",
              "0.95     141.0\n",
              "0.90      62.0\n",
              "0.85      34.0\n",
              "0.80      22.0\n",
              "0.75      15.0\n",
              "0.70      10.0\n",
              "0.65       8.0\n",
              "Name: count, dtype: float64"
            ]
          },
          "metadata": {},
          "execution_count": 23
        }
      ]
    },
    {
      "cell_type": "markdown",
      "source": [
        "Así, un 1% de las películas tiene aproximadamente 97.999 o más valoraciones, un 5% tiene 1.855 o más, y un 20% tiene 100 o más. Como tenemos tantas películas, nos limitaremos al 25% más popular. Este es un umbral arbitrario de popularidad, pero nos da unas 13.500 películas diferentes. Todavía tenemos una buena cantidad de películas para modelar. Hay dos razones por las que queremos filtrar a aproximadamente 13.500 películas en nuestro conjunto de datos.\n"
      ],
      "metadata": {
        "id": "by2hr6qv-0bj"
      }
    },
    {
      "cell_type": "code",
      "source": [
        "# filtrando la data\n",
        "popularity_thres = 50\n",
        "popular_movies = list(set(df_movies_cnt.query('count >= @popularity_thres').index))\n",
        "df_ratings_drop_movies = df_ratings[df_ratings.movieId.isin(popular_movies)]\n",
        "print('forma de los datos de calificaciones originales: ', df_ratings.shape)\n",
        "print('forma de los datos de calificaciones después de dejar caer películas impopulares: ', df_ratings_drop_movies.shape)"
      ],
      "metadata": {
        "id": "zrE1LNF48jv_",
        "colab": {
          "base_uri": "https://localhost:8080/"
        },
        "outputId": "ca3a2cd4-b7fc-45cc-9428-dcc62f05c0d4"
      },
      "execution_count": null,
      "outputs": [
        {
          "output_type": "stream",
          "name": "stdout",
          "text": [
            "forma de los datos de calificaciones originales:  (503907, 3)\n",
            "forma de los datos de calificaciones después de dejar caer películas impopulares:  (392708, 3)\n"
          ]
        }
      ]
    },
    {
      "cell_type": "markdown",
      "source": [
        "Después de descartar el 75 % de las películas en nuestro conjunto de datos, todavía tenemos un conjunto de datos muy grande. A continuación, podemos filtrar usuarios para reducir aún más el tamaño de los datos."
      ],
      "metadata": {
        "id": "-fcs5fk68zIv"
      }
    },
    {
      "cell_type": "code",
      "source": [
        "# Obtener el numero de ratings dado por cada usuario\n",
        "df_users_cnt = pd.DataFrame(df_ratings_drop_movies.groupby('userId').size(), columns=['count'])\n",
        "df_users_cnt.head()"
      ],
      "metadata": {
        "id": "rB2QeBdp810X",
        "colab": {
          "base_uri": "https://localhost:8080/",
          "height": 238
        },
        "outputId": "1f37b460-8dce-4a0c-e60b-bdd564b22393"
      },
      "execution_count": null,
      "outputs": [
        {
          "output_type": "execute_result",
          "data": {
            "text/html": [
              "\n",
              "  <div id=\"df-c41528bb-d72b-4e67-989d-0d08c499cffd\">\n",
              "    <div class=\"colab-df-container\">\n",
              "      <div>\n",
              "<style scoped>\n",
              "    .dataframe tbody tr th:only-of-type {\n",
              "        vertical-align: middle;\n",
              "    }\n",
              "\n",
              "    .dataframe tbody tr th {\n",
              "        vertical-align: top;\n",
              "    }\n",
              "\n",
              "    .dataframe thead th {\n",
              "        text-align: right;\n",
              "    }\n",
              "</style>\n",
              "<table border=\"1\" class=\"dataframe\">\n",
              "  <thead>\n",
              "    <tr style=\"text-align: right;\">\n",
              "      <th></th>\n",
              "      <th>count</th>\n",
              "    </tr>\n",
              "    <tr>\n",
              "      <th>userId</th>\n",
              "      <th></th>\n",
              "    </tr>\n",
              "  </thead>\n",
              "  <tbody>\n",
              "    <tr>\n",
              "      <th>1</th>\n",
              "      <td>16</td>\n",
              "    </tr>\n",
              "    <tr>\n",
              "      <th>2</th>\n",
              "      <td>15</td>\n",
              "    </tr>\n",
              "    <tr>\n",
              "      <th>3</th>\n",
              "      <td>5</td>\n",
              "    </tr>\n",
              "    <tr>\n",
              "      <th>4</th>\n",
              "      <td>630</td>\n",
              "    </tr>\n",
              "    <tr>\n",
              "      <th>5</th>\n",
              "      <td>65</td>\n",
              "    </tr>\n",
              "  </tbody>\n",
              "</table>\n",
              "</div>\n",
              "      <button class=\"colab-df-convert\" onclick=\"convertToInteractive('df-c41528bb-d72b-4e67-989d-0d08c499cffd')\"\n",
              "              title=\"Convert this dataframe to an interactive table.\"\n",
              "              style=\"display:none;\">\n",
              "        \n",
              "  <svg xmlns=\"http://www.w3.org/2000/svg\" height=\"24px\"viewBox=\"0 0 24 24\"\n",
              "       width=\"24px\">\n",
              "    <path d=\"M0 0h24v24H0V0z\" fill=\"none\"/>\n",
              "    <path d=\"M18.56 5.44l.94 2.06.94-2.06 2.06-.94-2.06-.94-.94-2.06-.94 2.06-2.06.94zm-11 1L8.5 8.5l.94-2.06 2.06-.94-2.06-.94L8.5 2.5l-.94 2.06-2.06.94zm10 10l.94 2.06.94-2.06 2.06-.94-2.06-.94-.94-2.06-.94 2.06-2.06.94z\"/><path d=\"M17.41 7.96l-1.37-1.37c-.4-.4-.92-.59-1.43-.59-.52 0-1.04.2-1.43.59L10.3 9.45l-7.72 7.72c-.78.78-.78 2.05 0 2.83L4 21.41c.39.39.9.59 1.41.59.51 0 1.02-.2 1.41-.59l7.78-7.78 2.81-2.81c.8-.78.8-2.07 0-2.86zM5.41 20L4 18.59l7.72-7.72 1.47 1.35L5.41 20z\"/>\n",
              "  </svg>\n",
              "      </button>\n",
              "      \n",
              "  <style>\n",
              "    .colab-df-container {\n",
              "      display:flex;\n",
              "      flex-wrap:wrap;\n",
              "      gap: 12px;\n",
              "    }\n",
              "\n",
              "    .colab-df-convert {\n",
              "      background-color: #E8F0FE;\n",
              "      border: none;\n",
              "      border-radius: 50%;\n",
              "      cursor: pointer;\n",
              "      display: none;\n",
              "      fill: #1967D2;\n",
              "      height: 32px;\n",
              "      padding: 0 0 0 0;\n",
              "      width: 32px;\n",
              "    }\n",
              "\n",
              "    .colab-df-convert:hover {\n",
              "      background-color: #E2EBFA;\n",
              "      box-shadow: 0px 1px 2px rgba(60, 64, 67, 0.3), 0px 1px 3px 1px rgba(60, 64, 67, 0.15);\n",
              "      fill: #174EA6;\n",
              "    }\n",
              "\n",
              "    [theme=dark] .colab-df-convert {\n",
              "      background-color: #3B4455;\n",
              "      fill: #D2E3FC;\n",
              "    }\n",
              "\n",
              "    [theme=dark] .colab-df-convert:hover {\n",
              "      background-color: #434B5C;\n",
              "      box-shadow: 0px 1px 3px 1px rgba(0, 0, 0, 0.15);\n",
              "      filter: drop-shadow(0px 1px 2px rgba(0, 0, 0, 0.3));\n",
              "      fill: #FFFFFF;\n",
              "    }\n",
              "  </style>\n",
              "\n",
              "      <script>\n",
              "        const buttonEl =\n",
              "          document.querySelector('#df-c41528bb-d72b-4e67-989d-0d08c499cffd button.colab-df-convert');\n",
              "        buttonEl.style.display =\n",
              "          google.colab.kernel.accessAllowed ? 'block' : 'none';\n",
              "\n",
              "        async function convertToInteractive(key) {\n",
              "          const element = document.querySelector('#df-c41528bb-d72b-4e67-989d-0d08c499cffd');\n",
              "          const dataTable =\n",
              "            await google.colab.kernel.invokeFunction('convertToInteractive',\n",
              "                                                     [key], {});\n",
              "          if (!dataTable) return;\n",
              "\n",
              "          const docLinkHtml = 'Like what you see? Visit the ' +\n",
              "            '<a target=\"_blank\" href=https://colab.research.google.com/notebooks/data_table.ipynb>data table notebook</a>'\n",
              "            + ' to learn more about interactive tables.';\n",
              "          element.innerHTML = '';\n",
              "          dataTable['output_type'] = 'display_data';\n",
              "          await google.colab.output.renderOutput(dataTable, element);\n",
              "          const docLink = document.createElement('div');\n",
              "          docLink.innerHTML = docLinkHtml;\n",
              "          element.appendChild(docLink);\n",
              "        }\n",
              "      </script>\n",
              "    </div>\n",
              "  </div>\n",
              "  "
            ],
            "text/plain": [
              "        count\n",
              "userId       \n",
              "1          16\n",
              "2          15\n",
              "3           5\n",
              "4         630\n",
              "5          65"
            ]
          },
          "metadata": {},
          "execution_count": 25
        }
      ]
    },
    {
      "cell_type": "code",
      "source": [
        "# Grafica de frecuencia de clasificación de todas las películas\n",
        "ax = df_users_cnt \\\n",
        "    .sort_values('count', ascending=False) \\\n",
        "    .reset_index(drop=True) \\\n",
        "    .plot(\n",
        "        figsize=(12, 8),\n",
        "        title='Frecuencia de calificación de todos los usuarios',\n",
        "        fontsize=12\n",
        "    )\n",
        "ax.set_xlabel(\"user Id\")\n",
        "ax.set_ylabel(\"número de calificaciones\")"
      ],
      "metadata": {
        "id": "OBTksw8X82Jv",
        "colab": {
          "base_uri": "https://localhost:8080/",
          "height": 538
        },
        "outputId": "e8d238f2-59ec-4e97-8dd9-7df52d995a3e"
      },
      "execution_count": null,
      "outputs": [
        {
          "output_type": "execute_result",
          "data": {
            "text/plain": [
              "Text(0, 0.5, 'número de calificaciones')"
            ]
          },
          "metadata": {},
          "execution_count": 26
        },
        {
          "output_type": "display_data",
          "data": {
            "image/png": "[encoded data removed]",
            "text/plain": [
              "<Figure size 864x576 with 1 Axes>"
            ]
          },
          "metadata": {
            "needs_background": "light"
          }
        }
      ]
    },
    {
      "cell_type": "code",
      "source": [
        "df_users_cnt['count'].quantile(np.arange(1, 0.5, -0.05))"
      ],
      "metadata": {
        "id": "A9qJLA0m9Cjf",
        "colab": {
          "base_uri": "https://localhost:8080/"
        },
        "outputId": "279e41da-91d5-4a2a-c0fc-078a6d921ef2"
      },
      "execution_count": null,
      "outputs": [
        {
          "output_type": "execute_result",
          "data": {
            "text/plain": [
              "1.00    1543.00\n",
              "0.95     317.65\n",
              "0.90     201.00\n",
              "0.85     145.00\n",
              "0.80     106.00\n",
              "0.75      84.00\n",
              "0.70      66.00\n",
              "0.65      53.00\n",
              "0.60      42.00\n",
              "0.55      34.00\n",
              "Name: count, dtype: float64"
            ]
          },
          "metadata": {},
          "execution_count": 27
        }
      ]
    },
    {
      "cell_type": "markdown",
      "source": [
        "Podemos ver que la distribución de las valoraciones de los usuarios es muy similar a la distribución de las valoraciones de las películas. Ambas tienen la propiedad de cola larga. Sólo una fracción muy pequeña de usuarios se dedica activamente a calificar las películas que ha visto. La gran mayoría de los usuarios no están interesados en calificar películas. Por lo tanto, podemos limitar los usuarios al 40% superior, que son unos 113.291 usuarios"
      ],
      "metadata": {
        "id": "y0vp6n7X_IiY"
      }
    },
    {
      "cell_type": "code",
      "source": [
        "# filtrando la data\n",
        "ratings_thres = 50\n",
        "active_users = list(set(df_users_cnt.query('count >= @ratings_thres').index))\n",
        "df_ratings_drop_users = df_ratings_drop_movies[df_ratings_drop_movies.userId.isin(active_users)]\n",
        "print('forma de los datos de calificaciones originales: ', df_ratings.shape)\n",
        "print('forma de los datos de calificaciones después de descartar tanto películas impopulares como usuarios inactivos: ', df_ratings_drop_users.shape)"
      ],
      "metadata": {
        "id": "JcC8Ey1X9CzH",
        "colab": {
          "base_uri": "https://localhost:8080/"
        },
        "outputId": "23f88d22-7c3b-4d89-df8d-524335e2269c"
      },
      "execution_count": null,
      "outputs": [
        {
          "output_type": "stream",
          "name": "stdout",
          "text": [
            "forma de los datos de calificaciones originales:  (503907, 3)\n",
            "forma de los datos de calificaciones después de descartar tanto películas impopulares como usuarios inactivos:  (333570, 3)\n"
          ]
        }
      ]
    },
    {
      "cell_type": "markdown",
      "source": [
        "**3.-Entrenar el modelo KNN para el filtrado colaborativo basado en ítems**"
      ],
      "metadata": {
        "id": "9rWeTd1EHkcn"
      }
    },
    {
      "cell_type": "markdown",
      "source": [
        "* Reformulación de los datos\n",
        "* Ajuste del modelo"
      ],
      "metadata": {
        "id": "-CX6Jo7JHnGK"
      }
    },
    {
      "cell_type": "markdown",
      "source": [
        "1. Reformulación de los datos\n",
        "Para los K-Nearest Neighbors, queremos que los datos estén en una matriz (artista, usuario), donde cada fila es una película y cada columna es un usuario diferente. Para remodelar el marco de datos, giraremos el marco de datos al formato ancho con las películas como filas y los usuarios como columnas. A continuación, rellenaremos las observaciones que faltan con 0s, ya que vamos a realizar operaciones de álgebra lineal (cálculo de distancias entre vectores). Por último, transformamos los valores del dataframe en una matriz sparse de scipy para que los cálculos sean más eficientes\n"
      ],
      "metadata": {
        "id": "XgTMilbNHu3t"
      }
    },
    {
      "cell_type": "code",
      "source": [
        "# pivotar y crear la matriz de usuario de la película\n",
        "movie_user_mat = df_ratings_drop_users.pivot(index='movieId', columns='userId', values='rating').fillna(0)\n",
        "# crear mapper del titulo de la pelicula a index\n",
        "movie_to_idx = {\n",
        "    movie: i for i, movie in \n",
        "    enumerate(list(df_movies.set_index('movieId').loc[movie_user_mat.index].title))\n",
        "}\n",
        "# transformar la matriz en una matriz dispersa scipy\n",
        "movie_user_mat_sparse = csr_matrix(movie_user_mat.values)"
      ],
      "metadata": {
        "id": "8DnsUVzNH6C3"
      },
      "execution_count": null,
      "outputs": []
    },
    {
      "cell_type": "code",
      "source": [
        "from google.colab import drive\n",
        "drive.mount('/content/drive')"
      ],
      "metadata": {
        "id": "Zr1tschutBJN"
      },
      "execution_count": null,
      "outputs": []
    },
    {
      "cell_type": "markdown",
      "source": [
        "**2. Ajuste de Modelo**"
      ],
      "metadata": {
        "id": "btnAHEecIJu5"
      }
    },
    {
      "cell_type": "markdown",
      "source": [
        "Es hora de implementar el modelo. Inicializaremos la clase NearestNeighbors como model_knn y ajustaremos nuestra matriz dispersa a la instancia. Al especificar la métrica = coseno, el modelo medirá la similitud entre los vectores de los artistas utilizando la similitud del coseno."
      ],
      "metadata": {
        "id": "5Ho08b9FIKzd"
      }
    },
    {
      "cell_type": "code",
      "source": [
        "\n",
        "# definir modelo\n",
        "model_knn = NearestNeighbors(metric='cosine', algorithm='brute', n_neighbors=20, n_jobs=-1)\n",
        "# ajuste \n",
        "model_knn.fit(movie_user_mat_sparse)\n",
        "joblib.dump(model_knn, '/home/modelo_entrenado.pkl')"
      ],
      "metadata": {
        "id": "nGzts1FYIW7r",
        "colab": {
          "base_uri": "https://localhost:8080/"
        },
        "outputId": "fe0f74e2-3b47-49df-d9bb-81a453baa656"
      },
      "execution_count": null,
      "outputs": [
        {
          "output_type": "execute_result",
          "data": {
            "text/plain": [
              "['/home/modelo_entrenado.pkl']"
            ]
          },
          "metadata": {},
          "execution_count": 32
        }
      ]
    },
    {
      "cell_type": "markdown",
      "source": [
        "***4. Uso del modelo entrenado para recomendar películas***"
      ],
      "metadata": {
        "id": "qJk23ekiIcku"
      }
    },
    {
      "cell_type": "code",
      "source": [
        "def fuzzy_matching(mapper, fav_movie, verbose=True):\n",
        "    \"\"\"\n",
        "    Devuelve la coincidencia más cercana a través de una relación difusa. Si no se encuentra ninguna coincidencia, devuelve Ninguno\n",
        "    \n",
        "    Parameters\n",
        "    ----------    \n",
        "    mapper: dict, asigna el nombre del título de la película al índice de la película en los datos\n",
        "\n",
        "    fav_movie: str, nombre de la película ingresada por el usuario\n",
        "    \n",
        "    verbose: bool, imprimir registro si es verdadero\n",
        "\n",
        "    Retorna\n",
        "    ------\n",
        "    índice de la coincidencia más cercana\n",
        "    \"\"\"\n",
        "    match_tuple = []\n",
        "    # obtener coincidencias\n",
        "    for title, idx in mapper.items():\n",
        "        ratio = fuzz.ratio(title.lower(), fav_movie.lower())\n",
        "        if ratio >= 60:\n",
        "            match_tuple.append((title, idx, ratio))\n",
        "    # ordenando\n",
        "    match_tuple = sorted(match_tuple, key=lambda x: x[2])[::-1]\n",
        "    if not match_tuple:\n",
        "        print('¡UPS! No se encuentra coincidencia')\n",
        "        return\n",
        "    if verbose:\n",
        "        print('Encontrado posibles coincidencias en nuestra base de datos: {0}\\n'.format([x[0] for x in match_tuple]))\n",
        "    return match_tuple[0][1]\n",
        "\n",
        "\n",
        "\n",
        "def make_recommendation(model_knn, data, mapper, fav_movie, n_recommendations):\n",
        "    \"\"\"\n",
        "    Devuelve las mejores recomendaciones de películas similares basadas en la película de entrada del usuario\n",
        "\n",
        "    Parametros\n",
        "    ----------\n",
        "    model_knn: modelo sklearn, modelo knn\n",
        "\n",
        "    datos: matriz de película-usuario\n",
        "\n",
        "    mapper: dict, asigna el nombre del título de la película al índice de la película en los datos\n",
        "\n",
        "    fav_movie: str, nombre de la película ingresada por el usuario\n",
        "\n",
        "    n_recomendaciones: int, n principales recomendaciones\n",
        "\n",
        "    Return\n",
        "    ------\n",
        "    lista de las n mejores recomendaciones de películas similares\n",
        "    \"\"\"\n",
        "    # Ajustar\n",
        "    model_knn.fit(data)\n",
        "    # obtener el índice de la película de entrada\n",
        "    print('Tu película de entrada:', fav_movie)\n",
        "    idx = fuzzy_matching(mapper, fav_movie, verbose=True)\n",
        "    # Inferencia\n",
        "    print('El sistema de recomendación comienza a hacer inferencias.')\n",
        "    print('......\\n')\n",
        "    distances, indices = model_knn.kneighbors(data[idx], n_neighbors=n_recommendations+1)\n",
        "    # Obtener una lista de idx sin procesamiento de recomendaciones\n",
        "    raw_recommends = \\\n",
        "        sorted(list(zip(indices.squeeze().tolist(), distances.squeeze().tolist())), key=lambda x: x[1])[:0:-1]\n",
        "    # Obtener mapeador inverso\n",
        "    reverse_mapper = {v: k for k, v in mapper.items()}\n",
        "    # Imprimir recomendaciones\n",
        "    print('Recomendaciones para {}:'.format(fav_movie))\n",
        "    for i, (idx, dist) in enumerate(raw_recommends):\n",
        "        print('{0}: {1}, con una distancia de {2}'.format(i+1, reverse_mapper[idx], dist))"
      ],
      "metadata": {
        "id": "_qFyNGRtM9Gv"
      },
      "execution_count": null,
      "outputs": []
    },
    {
      "cell_type": "code",
      "source": [
        "my_favorite = 'Scary Movie'\n",
        "\n",
        "make_recommendation(\n",
        "    model_knn=model_knn,\n",
        "    data=movie_user_mat_sparse,\n",
        "    fav_movie=my_favorite,\n",
        "    mapper=movie_to_idx,\n",
        "    n_recommendations=10)"
      ],
      "metadata": {
        "colab": {
          "base_uri": "https://localhost:8080/"
        },
        "id": "dMcTHxwTNAvK",
        "outputId": "bab2e468-2b79-49b4-cdd6-6f01af98cede"
      },
      "execution_count": null,
      "outputs": [
        {
          "output_type": "stream",
          "name": "stdout",
          "text": [
            "Tu película de entrada: Scary Movie\n",
            "Encontrado posibles coincidencias en nuestra base de datos: ['Scary Movie (2000)', 'Scary Movie 3 (2003)', 'Scary Movie 2 (2001)']\n",
            "\n",
            "El sistema de recomendación comienza a hacer inferencias.\n",
            "......\n",
            "\n",
            "Recomendaciones para Scary Movie:\n",
            "1: Ring, The (2002), con una distancia de 0.5859320759773254\n",
            "2: Fast and the Furious, The (2001), con una distancia de 0.57155442237854\n",
            "3: Me, Myself & Irene (2000), con una distancia de 0.571537971496582\n",
            "4: Austin Powers in Goldmember (2002), con una distancia de 0.5694549679756165\n",
            "5: Road Trip (2000), con una distancia de 0.567746639251709\n",
            "6: Scary Movie 3 (2003), con una distancia de 0.5635279417037964\n",
            "7: Bruce Almighty (2003), con una distancia de 0.5571568012237549\n",
            "8: Final Destination (2000), con una distancia de 0.5545445680618286\n",
            "9: Scary Movie 2 (2001), con una distancia de 0.4941127300262451\n",
            "10: American Pie 2 (2001), con una distancia de 0.4852446913719177\n"
          ]
        }
      ]
    },
    {
      "cell_type": "markdown",
      "source": [
        "**inspección adicional**"
      ],
      "metadata": {
        "id": "WRIgWdc0ITEd"
      }
    },
    {
      "cell_type": "markdown",
      "source": [
        "Veamos ahora qué tan escasa es la matriz de usuarios de películas calculando el porcentaje de valores cero en los datos."
      ],
      "metadata": {
        "id": "cil2I7V0H24f"
      }
    },
    {
      "cell_type": "code",
      "source": [
        "# calculo del número total de entradas en la matriz de usuarios de películas\n",
        "num_entries = movie_user_mat.shape[0] * movie_user_mat.shape[1]\n",
        "# calculo del número total de entradas con valores cero\n",
        "num_zeros = (movie_user_mat==0).sum(axis=1).sum()\n",
        "# calculo de la relación entre el número de ceros y el número de entradas\n",
        "ratio_zeros = num_zeros / num_entries\n",
        "print('Exiten alrededor de {:.2%} calificaciones de 0 en el dataset'.format(ratio_zeros))"
      ],
      "metadata": {
        "colab": {
          "base_uri": "https://localhost:8080/"
        },
        "id": "j0prhQBaNNdf",
        "outputId": "c21c2b56-aa61-492f-8078-d51b643142b4"
      },
      "execution_count": null,
      "outputs": [
        {
          "output_type": "stream",
          "name": "stdout",
          "text": [
            "Exiten alrededor de 91.38% calificaciones de 0 en el dataset\n"
          ]
        }
      ]
    },
    {
      "cell_type": "markdown",
      "source": [
        "La gran mayoría de las entradas en nuestros datos es cero. Esto explica por qué la distancia entre elementos similares o elementos opuestos es bastante grande."
      ],
      "metadata": {
        "id": "x4CaJrIXH0Fh"
      }
    },
    {
      "cell_type": "code",
      "source": [
        "#Para cargar el modelo entrenado:\n",
        "model = joblib.load('/home/modelo_entrenado.plk')"
      ],
      "metadata": {
        "id": "ljvumKkHtXoC"
      },
      "execution_count": null,
      "outputs": []
    }
  ]
}